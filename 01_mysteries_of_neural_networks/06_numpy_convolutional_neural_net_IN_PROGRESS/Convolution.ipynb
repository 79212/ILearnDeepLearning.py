{
 "cells": [
  {
   "cell_type": "code",
   "execution_count": 2,
   "metadata": {},
   "outputs": [],
   "source": [
    "import numpy as np"
   ]
  },
  {
   "cell_type": "markdown",
   "metadata": {},
   "source": [
    "# Convolution"
   ]
  },
  {
   "cell_type": "code",
   "execution_count": 3,
   "metadata": {},
   "outputs": [],
   "source": [
    "def get_output_dim(\n",
    "    input_dim: int, \n",
    "    kernel_dim: int, \n",
    "    padding: int, \n",
    "    stride: int\n",
    ") -> int:\n",
    "    return (int)((input_dim + 2 * padding - kernel_dim) / stride + 1)"
   ]
  },
  {
   "cell_type": "code",
   "execution_count": 4,
   "metadata": {},
   "outputs": [],
   "source": [
    "def convolution_layer_forward(\n",
    "    A_prev: np.array, \n",
    "    W_curr: np.array, \n",
    "    b_curr: np.array, \n",
    "    stride: int, \n",
    "    padding: int\n",
    ") -> np.array:\n",
    "    \n",
    "    examples_count, activation_channels, activation_height, activation_width = \\\n",
    "        A_prev.shape\n",
    "    kernel_count, kernel_channels, kernel_height, kernel_width = \\\n",
    "        W_curr.shape\n",
    "    assert activation_channels == kernel_channels\n",
    "    \n",
    "    Z_curr_height = get_output_dim(activation_height, kernel_height, padding, stride)\n",
    "    Z_curr_width = get_output_dim(activation_width, kernel_width, padding, stride)\n",
    "    Z_curr = np.zeros([examples_count, kernel_count, Z_curr_height, Z_curr_width])\n",
    "    \n",
    "    A_prev_padding = ((0,0), (0,0), (padding, padding), (padding, padding))\n",
    "    A_prev_padded = np.pad(A_prev, pad_width = A_prev_padding, mode = 'constant', constant_values = 0)\n",
    "    \n",
    "    for i in range(examples_count):\n",
    "        for j in range(kernel_count):\n",
    "            for k in range(Z_curr_height):\n",
    "                for l in range(Z_curr_width):\n",
    "                    crop = A_prev_padded[i, :, \n",
    "                                         (k * stride):((k * stride) + kernel_height), \n",
    "                                         (l * stride):((l * stride) + kernel_width)\n",
    "                                        ]\n",
    "                    Z_curr[i, j, k, l] = np.sum(crop * W_curr[j]) + b_curr[j]\n",
    "\n",
    "    return Z_curr\n"
   ]
  },
  {
   "cell_type": "code",
   "execution_count": 52,
   "metadata": {},
   "outputs": [],
   "source": [
    "x_shape = (2, 3, 4, 4)\n",
    "w_shape = (3, 3, 4, 4)\n",
    "x = np.linspace(-0.1, 0.5, num=np.prod(x_shape)).reshape(x_shape)\n",
    "w = np.linspace(-0.2, 0.3, num=np.prod(w_shape)).reshape(w_shape)\n",
    "b = np.linspace(-0.1, 0.2, num=3)"
   ]
  },
  {
   "cell_type": "code",
   "execution_count": 53,
   "metadata": {},
   "outputs": [
    {
     "data": {
      "text/plain": [
       "array([[[[-0.08759809, -0.10987781],\n",
       "         [-0.18387192, -0.2109216 ]],\n",
       "\n",
       "        [[ 0.21027089,  0.21661097],\n",
       "         [ 0.22847626,  0.23004637]],\n",
       "\n",
       "        [[ 0.50813986,  0.54309974],\n",
       "         [ 0.64082444,  0.67101435]]],\n",
       "\n",
       "\n",
       "       [[[-0.98053589, -1.03143541],\n",
       "         [-1.19128892, -1.24695841]],\n",
       "\n",
       "        [[ 0.69108355,  0.66880383],\n",
       "         [ 0.59480972,  0.56776003]],\n",
       "\n",
       "        [[ 2.36270298,  2.36904306],\n",
       "         [ 2.38090835,  2.38247847]]]])"
      ]
     },
     "execution_count": 53,
     "metadata": {},
     "output_type": "execute_result"
    }
   ],
   "source": [
    "convolution_3d_layer_forward(x, w, b, 2, 1)"
   ]
  },
  {
   "cell_type": "code",
   "execution_count": null,
   "metadata": {},
   "outputs": [],
   "source": [
    "def conv_backward_naive(dout, cache):\n",
    "    \"\"\"\n",
    "    A naive implementation of the backward pass for a convolutional layer.\n",
    "\n",
    "    Inputs:\n",
    "    - dout: Upstream derivatives.\n",
    "    - cache: A tuple of (x, w, b, conv_param) as in conv_forward_naive\n",
    "\n",
    "    Returns a tuple of:\n",
    "    - dx: Gradient with respect to x\n",
    "    - dw: Gradient with respect to w\n",
    "    - db: Gradient with respect to b\n",
    "    \"\"\"\n",
    "    dx, dw, db = None, None, None\n",
    "    ###########################################################################\n",
    "    # TODO: Implement the convolutional backward pass.                        #\n",
    "    ###########################################################################\n",
    "    (x, w, b, conv_param) = cache\n",
    "    stride = conv_param['stride']\n",
    "    pad = conv_param['pad']\n",
    "    (N, C, H, W) = x.shape\n",
    "    (F, C, HH, WW) = w.shape\n",
    "    H_out = (int)(1 + (H + 2 * pad - HH) / stride)\n",
    "    W_out = (int)(1 + (W + 2 * pad - WW) / stride)\n",
    "    out = np.zeros([N, F, H_out, W_out])\n",
    "    npad = ((0,0), (0,0), (pad, pad), (pad,pad))\n",
    "    x_pad = np.pad(x, pad_width = npad, mode = 'constant', constant_values = 0)\n",
    "    \n",
    "    dx = np.zeros(x_pad.shape)\n",
    "    dw = np.zeros(w.shape)\n",
    "    db = np.zeros(b.shape)\n",
    "    \n",
    "    for i in range(N):\n",
    "        for f in range(F):\n",
    "            for j in range(H_out):\n",
    "                for k in range(W_out):\n",
    "                    x_now = x_pad[i, :, (j*stride):((j*stride)+HH), (k*stride):((k*stride)+WW)]\n",
    "                    dw[f] += x_now * dout[i, f, j, k]\n",
    "                    dx[i, :, (j*stride):((j*stride)+HH), (k*stride):((k*stride)+WW)] += w[f] * dout[i, f, j, k]\n",
    "                    db[f] += np.sum(dout[i, f, j, k], axis = 0, keepdims = True)\n",
    "    dx = dx[:, :, pad:(pad + H), pad:(pad + W)]\n",
    "    \n",
    "    ###########################################################################\n",
    "    #                             END OF YOUR CODE                            #\n",
    "    ###########################################################################\n",
    "    return dx, dw, db\n"
   ]
  },
  {
   "cell_type": "markdown",
   "metadata": {},
   "source": [
    "## 2D Naive implementation"
   ]
  },
  {
   "cell_type": "code",
   "execution_count": 3,
   "metadata": {},
   "outputs": [],
   "source": [
    "A = np.array([\n",
    "    [10, 10, 10, 10, 10, 10],\n",
    "    [10, 10, 10, 10, 10, 10],\n",
    "    [10, 10, 10, 10, 10, 10],\n",
    "    [0, 0, 0, 0, 0, 0],\n",
    "    [0, 0, 0, 0, 0, 0],\n",
    "    [0, 0, 0, 0, 0, 0]\n",
    "])"
   ]
  },
  {
   "cell_type": "code",
   "execution_count": 5,
   "metadata": {},
   "outputs": [],
   "source": [
    "k = np.array([\n",
    "    [1, 2, 1],\n",
    "    [0, 0, 0],\n",
    "    [-1, -2, -1]\n",
    "])"
   ]
  },
  {
   "cell_type": "code",
   "execution_count": 15,
   "metadata": {},
   "outputs": [],
   "source": [
    "def simple_conv2d(image: np.array , kernel: np.array) -> float:\n",
    "    return np.multiply(image, kernel).sum()"
   ]
  },
  {
   "cell_type": "code",
   "execution_count": 23,
   "metadata": {},
   "outputs": [],
   "source": [
    "def calculate_output_dimension(image_dim: int, kernel_dim: int, padding: int = 0, stride: int = 1) -> int:\n",
    "    return (int)((image_dim + 2 * padding - kernel_dim)/stride + 1)"
   ]
  },
  {
   "cell_type": "code",
   "execution_count": 24,
   "metadata": {},
   "outputs": [],
   "source": [
    "def crop(image, anchor, shape):\n",
    "    return image[anchor[0]:anchor[0] + shape[0], anchor[1]:anchor[1] + shape[1]]"
   ]
  },
  {
   "cell_type": "code",
   "execution_count": 25,
   "metadata": {},
   "outputs": [],
   "source": [
    "def naive_convolution(image, kernel, padding = 0, stride = 1):\n",
    "    # acquisition of input image and kernel dimensions\n",
    "    (image_height, image_width) = image.shape\n",
    "    (kernel_height, kernel_width) = kernel.shape\n",
    "    \n",
    "    # preparation of memory for the returned array\n",
    "    output = np.zeros((\n",
    "        calculate_output_dimension(image_height, kernel_height, padding, stride),\n",
    "        calculate_output_dimension(image_width, kernel_width, padding, stride)\n",
    "    ))\n",
    "    \n",
    "    (output_height, output_width) = output.shape\n",
    "    \n",
    "    # addition of padding\n",
    "    image_with_padding = np.pad(image, [(padding, padding), (padding, padding)], mode='constant', constant_values=0)\n",
    "    \n",
    "    for x in range(output_height):\n",
    "        for y in range(output_width):\n",
    "            output[x, y] = simple_conv2d(crop(image_with_padding, (x * stride, y * stride), kernel.shape), kernel)\n",
    "    \n",
    "    return output"
   ]
  },
  {
   "cell_type": "code",
   "execution_count": 26,
   "metadata": {},
   "outputs": [
    {
     "data": {
      "text/plain": [
       "array([[ 0.,  0.,  0.,  0.],\n",
       "       [40., 40., 40., 40.],\n",
       "       [40., 40., 40., 40.],\n",
       "       [ 0.,  0.,  0.,  0.]])"
      ]
     },
     "execution_count": 26,
     "metadata": {},
     "output_type": "execute_result"
    }
   ],
   "source": [
    "naive_convolution(A, k)"
   ]
  },
  {
   "cell_type": "code",
   "execution_count": 27,
   "metadata": {},
   "outputs": [
    {
     "data": {
      "text/plain": [
       "array([[  0,   0,   0,   0],\n",
       "       [-40, -40, -40, -40],\n",
       "       [-40, -40, -40, -40],\n",
       "       [  0,   0,   0,   0]])"
      ]
     },
     "execution_count": 27,
     "metadata": {},
     "output_type": "execute_result"
    }
   ],
   "source": [
    "convolve(A, k, \"valid\")"
   ]
  },
  {
   "cell_type": "code",
   "execution_count": null,
   "metadata": {},
   "outputs": [],
   "source": []
  }
 ],
 "metadata": {
  "kernelspec": {
   "display_name": "Python 3",
   "language": "python",
   "name": "python3"
  },
  "language_info": {
   "codemirror_mode": {
    "name": "ipython",
    "version": 3
   },
   "file_extension": ".py",
   "mimetype": "text/x-python",
   "name": "python",
   "nbconvert_exporter": "python",
   "pygments_lexer": "ipython3",
   "version": "3.7.4"
  }
 },
 "nbformat": 4,
 "nbformat_minor": 2
}
